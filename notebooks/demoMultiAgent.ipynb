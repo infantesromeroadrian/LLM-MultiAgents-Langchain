{
 "cells": [
  {
   "cell_type": "code",
   "id": "initial_id",
   "metadata": {
    "collapsed": true,
    "ExecuteTime": {
     "end_time": "2024-08-01T21:16:46.422658Z",
     "start_time": "2024-08-01T21:16:46.415638Z"
    }
   },
   "source": [
    "from langchain_openai import ChatOpenAI\n",
    "from langchain import hub\n",
    "from langchain.agents import create_openai_functions_agent\n",
    "from langchain.agents import AgentExecutor\n",
    "from langchain.schema import HumanMessage, SystemMessage\n",
    "from langchain.tools import WikipediaQueryRun\n",
    "from langchain_community.utilities import WikipediaAPIWrapper\n",
    "from langchain.agents import Tool\n",
    "from langchain import LLMMathChain\n",
    "from langchain.tools import DuckDuckGoSearchRun\n",
    "\n",
    "from langchain.agents import create_openai_functions_agent\n",
    "from langchain.tools import Tool\n",
    "from langchain import LLMMathChain\n",
    "\n",
    "from langchain import LLMMathChain\n",
    "from langchain import OpenAI\n",
    "from langchain.chains.base import Chain\n",
    "\n",
    "from langchain_openai import ChatOpenAI\n",
    "from langchain.agents import create_openai_functions_agent, AgentExecutor\n",
    "from langchain.schema import HumanMessage, SystemMessage\n",
    "from langchain.tools import WikipediaQueryRun\n",
    "from langchain_community.utilities import WikipediaAPIWrapper\n",
    "from langchain import LLMMathChain\n",
    "from langchain.tools import DuckDuckGoSearchRun\n",
    "from langchain.agents import Tool\n",
    "\n",
    "from langchain_openai import ChatOpenAI\n",
    "from langchain import hub\n",
    "from langchain.agents import create_openai_functions_agent, AgentExecutor\n",
    "from langchain.schema import HumanMessage, SystemMessage\n",
    "from langchain.tools import WikipediaQueryRun, DuckDuckGoSearchRun\n",
    "from langchain_community.utilities import WikipediaAPIWrapper\n",
    "from langchain import LLMMathChain\n",
    "from langchain.tools import Tool, StructuredTool\n",
    "from pydantic import BaseModel, Field\n",
    "from dotenv import load_dotenv\n",
    "import os\n",
    "\n",
    "\n",
    "from pydantic import BaseModel, Field\n",
    "from dotenv import load_dotenv\n",
    "import os"
   ],
   "outputs": [],
   "execution_count": 78
  },
  {
   "metadata": {
    "ExecuteTime": {
     "end_time": "2024-08-01T21:16:46.885547Z",
     "start_time": "2024-08-01T21:16:46.882763Z"
    }
   },
   "cell_type": "code",
   "source": [
    "# Cargar variables de entorno\n",
    "load_dotenv()\n",
    "openai_api_key = os.getenv(\"OPENAI_API_KEY\")"
   ],
   "id": "1e7b6a430cb59b59",
   "outputs": [],
   "execution_count": 79
  },
  {
   "metadata": {
    "ExecuteTime": {
     "end_time": "2024-08-01T21:16:47.266636Z",
     "start_time": "2024-08-01T21:16:47.227788Z"
    }
   },
   "cell_type": "code",
   "source": "llm = ChatOpenAI(temperature=0.9, model_name=\"gpt-4o-mini\")",
   "id": "5c6153107d72220",
   "outputs": [],
   "execution_count": 80
  },
  {
   "metadata": {
    "ExecuteTime": {
     "end_time": "2024-08-01T21:16:47.946694Z",
     "start_time": "2024-08-01T21:16:47.564539Z"
    }
   },
   "cell_type": "code",
   "source": [
    "# Configurar el prompt\n",
    "prompt = hub.pull(\"hwchase17/openai-functions-agent\")"
   ],
   "id": "9350a5040db0a005",
   "outputs": [],
   "execution_count": 81
  },
  {
   "metadata": {
    "ExecuteTime": {
     "end_time": "2024-08-01T21:16:48.124870Z",
     "start_time": "2024-08-01T21:16:48.122996Z"
    }
   },
   "cell_type": "code",
   "source": [
    "# Configurar la herramienta de Wikipedia\n",
    "api_wrapper = WikipediaAPIWrapper(\n",
    "    top_k_results=5,\n",
    "    search_query=\"UEFA_Euro_2024\",\n",
    "    doc_content_chars_max=1000,\n",
    ")\n",
    "wiki_tool = WikipediaQueryRun(api_wrapper=api_wrapper)"
   ],
   "id": "88dd38801280e797",
   "outputs": [],
   "execution_count": 82
  },
  {
   "metadata": {
    "ExecuteTime": {
     "end_time": "2024-08-01T21:16:49.049319Z",
     "start_time": "2024-08-01T21:16:49.046533Z"
    }
   },
   "cell_type": "code",
   "source": [
    "# Configurar la herramienta de cálculo matemático\n",
    "llm_math_chain = LLMMathChain.from_llm(llm=llm, verbose=True)"
   ],
   "id": "bc9cbe3438d122dd",
   "outputs": [],
   "execution_count": 83
  },
  {
   "metadata": {
    "ExecuteTime": {
     "end_time": "2024-08-01T21:16:50.058466Z",
     "start_time": "2024-08-01T21:16:50.051635Z"
    }
   },
   "cell_type": "code",
   "source": [
    "class MathInput(BaseModel):\n",
    "    expression: str = Field(description=\"The mathematical expression to calculate\")\n",
    "\n",
    "def math_calculator(expression: str) -> str:\n",
    "    return llm_math_chain.run(expression)\n",
    "\n",
    "math_tool = StructuredTool.from_function(\n",
    "    func=math_calculator,\n",
    "    name=\"math_calculator\",\n",
    "    description=\"A tool that calculates math expressions. The input should be a mathematical expression as a string.\",\n",
    "    args_schema=MathInput,\n",
    ")\n"
   ],
   "id": "55ca725fb6e61d63",
   "outputs": [],
   "execution_count": 84
  },
  {
   "metadata": {
    "ExecuteTime": {
     "end_time": "2024-08-01T21:17:34.200951Z",
     "start_time": "2024-08-01T21:17:34.188115Z"
    }
   },
   "cell_type": "code",
   "source": [
    "# Configurar la herramienta de búsqueda web\n",
    "class WebSearchInput(BaseModel):\n",
    "    query: str = Field(description=\"The search query to look up\")\n",
    "\n",
    "def web_search(query: str) -> str:\n",
    "    return DuckDuckGoSearchRun().run(query)\n",
    "\n",
    "search_tool = StructuredTool.from_function(\n",
    "    func=web_search,\n",
    "    name=\"web_search\",\n",
    "    description=\"A tool to search the web using DuckDuckGo\",\n",
    "    args_schema=WebSearchInput,\n",
    ")"
   ],
   "id": "6cb7abf497897ef",
   "outputs": [],
   "execution_count": 85
  },
  {
   "metadata": {
    "ExecuteTime": {
     "end_time": "2024-08-01T21:17:45.691675Z",
     "start_time": "2024-08-01T21:17:45.668501Z"
    }
   },
   "cell_type": "code",
   "source": [
    "# Configurar las herramientas\n",
    "tools = [wiki_tool, math_tool, search_tool]\n",
    "\n",
    "# Crear el agente\n",
    "agent = create_openai_functions_agent(llm, tools, prompt)\n",
    "\n",
    "# Crear el ejecutor del agente\n",
    "agent_executor = AgentExecutor(agent=agent, tools=tools, verbose=True)"
   ],
   "id": "a991bd0d994de3ba",
   "outputs": [],
   "execution_count": 86
  },
  {
   "metadata": {
    "ExecuteTime": {
     "end_time": "2024-08-01T21:18:01.725602Z",
     "start_time": "2024-08-01T21:18:01.721615Z"
    }
   },
   "cell_type": "code",
   "source": [
    "# Ejemplo de uso\n",
    "def run_agent(query):\n",
    "    result = agent_executor.invoke({\"input\": query})\n",
    "    print(result)"
   ],
   "id": "1e2b1e0aad085d77",
   "outputs": [],
   "execution_count": 87
  },
  {
   "metadata": {
    "ExecuteTime": {
     "end_time": "2024-08-01T21:18:17.257644Z",
     "start_time": "2024-08-01T21:18:03.818534Z"
    }
   },
   "cell_type": "code",
   "source": [
    "# Ejecutar ejemplos\n",
    "print(\"Ejemplo 1: Predicción de la Eurocopa 2024\")\n",
    "run_agent(\"Who will win the Euro football cup in 2024?\")\n",
    "\n",
    "print(\"\\nEjemplo 2: Cálculo matemático\")\n",
    "run_agent(\"What is the square root of 4?\")\n",
    "\n",
    "print(\"\\nEjemplo 3: Búsqueda web\")\n",
    "run_agent(\"What are the latest developments in AI?\")"
   ],
   "id": "3dbffc2b7fac8109",
   "outputs": [
    {
     "name": "stdout",
     "output_type": "stream",
     "text": [
      "Ejemplo 1: Predicción de la Eurocopa 2024\n",
      "\n",
      "\n",
      "\u001B[1m> Entering new AgentExecutor chain...\u001B[0m\n",
      "\u001B[32;1m\u001B[1;3m\n",
      "Invoking: `web_search` with `{'query': 'Euro 2024 football cup predictions'}`\n",
      "\n",
      "\n",
      "\u001B[0m\u001B[38;5;200m\u001B[1;3mGet today's free Euro 2024 expert picks against the spread for 2023. Covers' Euro 2024 free picks & predictions will help you make smarter betting decisions throughout the Euro 2024 tournament. Suffice it to say, this soccer betting writer knows his ball. Here's what I'm forecasting for each game of the Euro 2024 quarterfinals, including the current Final odds and what oddsmakers ... The 2024 European championship takes the field in Germany this summer to mark the midway point in the current World Cup cycle. With top teams dotting the map all across the continent, there will ... Let's take a look at the updated odds from DraftKings Sportsbook as of July 10. ODDS TO WIN UEFA EURO 2024: Spain: -155 (bet $10 to win $16.45 total) England: +120 (bet $10 to win $22 total) Here ... EURO 2024 Team of the Tournament prediction. Andriy Lunin, William Saliba, Alessandro Bastoni, Antonio Rudiger, Eduardo Camavinga, Declan Rice, Nico Barella, Toni Kroos, Viktor Tsyganov, Harry Kane, Kylian Mbappe. The eyes of the world will be trained on huge international tournaments this summer, from the Olympics to the Copa America and EURO ...\u001B[0m\u001B[32;1m\u001B[1;3mPredicting the winner of the Euro 2024 football cup is uncertain, as many factors can influence the outcome. However, as of now, teams like Spain and England are considered strong contenders, with betting odds reflecting their potential to win. Spain currently has odds of -155, while England has odds of +120 according to recent updates from sportsbooks.\n",
      "\n",
      "Ultimately, the actual outcome will depend on team performances, player conditions, and match situations during the tournament.\u001B[0m\n",
      "\n",
      "\u001B[1m> Finished chain.\u001B[0m\n",
      "{'input': 'Who will win the Euro football cup in 2024?', 'output': 'Predicting the winner of the Euro 2024 football cup is uncertain, as many factors can influence the outcome. However, as of now, teams like Spain and England are considered strong contenders, with betting odds reflecting their potential to win. Spain currently has odds of -155, while England has odds of +120 according to recent updates from sportsbooks.\\n\\nUltimately, the actual outcome will depend on team performances, player conditions, and match situations during the tournament.'}\n",
      "\n",
      "Ejemplo 2: Cálculo matemático\n",
      "\n",
      "\n",
      "\u001B[1m> Entering new AgentExecutor chain...\u001B[0m\n",
      "\u001B[32;1m\u001B[1;3m\n",
      "Invoking: `math_calculator` with `{'expression': 'sqrt(4)'}`\n",
      "\n",
      "\n",
      "\u001B[0m\n",
      "\n",
      "\u001B[1m> Entering new LLMMathChain chain...\u001B[0m\n",
      "sqrt(4)\u001B[32;1m\u001B[1;3m```text\n",
      "sqrt(4)\n",
      "```\n",
      "...numexpr.evaluate(\"sqrt(4)\")...\n",
      "\u001B[0m\n",
      "Answer: \u001B[33;1m\u001B[1;3m2.0\u001B[0m\n",
      "\u001B[1m> Finished chain.\u001B[0m\n",
      "\u001B[33;1m\u001B[1;3mAnswer: 2.0\u001B[0m\u001B[32;1m\u001B[1;3mThe square root of 4 is 2.\u001B[0m\n",
      "\n",
      "\u001B[1m> Finished chain.\u001B[0m\n",
      "{'input': 'What is the square root of 4?', 'output': 'The square root of 4 is 2.'}\n",
      "\n",
      "Ejemplo 3: Búsqueda web\n",
      "\n",
      "\n",
      "\u001B[1m> Entering new AgentExecutor chain...\u001B[0m\n",
      "\u001B[32;1m\u001B[1;3m\n",
      "Invoking: `web_search` with `{'query': 'latest developments in Artificial Intelligence 2023'}`\n",
      "\n",
      "\n",
      "\u001B[0m\u001B[38;5;200m\u001B[1;3mArtificial intelligence Four trends that changed AI in 2023 Endless product launches, boardroom coups, intense policy debates, and a race to find the next big thing — it's been a busy year. The 2023 Gartner Hype Cycle™ for Artificial Intelligence (AI) identifies innovations and techniques that offer significant and even transformational benefits while also addressing the limitations and risks of fallible systems. AI strategies should consider which offer the most credible cases for investment. Download Now: A Workbook for ... 13 Biggest AI Stories of 2023. Generative models dominated the year, as calls for policy and transparency heated up. In 2023, the field of artificial intelligence witnessed a significant transformation — generative AI emerged as the most prominent and impactful story of the year. Driven by remarkable progress in large language models, the ... 2023 has unfolded as a testament to the extraordinary advancements in artificial intelligence (AI). In a year awash with groundbreaking technological leaps and profound ethical debates, we have ... The year 2023 marked a breakthrough moment for artificial intelligence (AI) as emergent capabilities of generative models transitioned from niche research labs to the mainstream of desktop computers and mobile phones. Notably, the launch of OpenAI's ChatGPT became a catalyst for the public imagination, providing a tangible glimpse into the ...\u001B[0m\u001B[32;1m\u001B[1;3mIn 2023, the field of artificial intelligence (AI) has seen remarkable developments, marked by several key trends:\n",
      "\n",
      "1. **Generative AI Dominance**: Generative models have emerged as the most significant advancement this year. The progress in large language models has transformed them from niche research projects to widely accessible tools on desktops and mobile devices. This has included notable platforms, such as OpenAI's ChatGPT, which have captured public interest and imagination.\n",
      "\n",
      "2. **Increased Product Launches**: The year has been characterized by a surge in AI product launches, showcasing various applications of AI technologies across different industries.\n",
      "\n",
      "3. **Ethical and Policy Debates**: There has been an intensification of discussions surrounding the ethical implications and governance of AI technologies. Calls for transparency in AI systems have grown louder amidst concerns about their impacts.\n",
      "\n",
      "4. **Gartner Hype Cycle**: According to the 2023 Gartner Hype Cycle for AI, there are significant innovations and techniques that promise transformational benefits. This cycle also emphasizes the importance of understanding the limitations and risks associated with AI systems.\n",
      "\n",
      "Overall, 2023 has been a pivotal year for AI, marked by technological breakthroughs alongside critical ethical discussions.\u001B[0m\n",
      "\n",
      "\u001B[1m> Finished chain.\u001B[0m\n",
      "{'input': 'What are the latest developments in AI?', 'output': \"In 2023, the field of artificial intelligence (AI) has seen remarkable developments, marked by several key trends:\\n\\n1. **Generative AI Dominance**: Generative models have emerged as the most significant advancement this year. The progress in large language models has transformed them from niche research projects to widely accessible tools on desktops and mobile devices. This has included notable platforms, such as OpenAI's ChatGPT, which have captured public interest and imagination.\\n\\n2. **Increased Product Launches**: The year has been characterized by a surge in AI product launches, showcasing various applications of AI technologies across different industries.\\n\\n3. **Ethical and Policy Debates**: There has been an intensification of discussions surrounding the ethical implications and governance of AI technologies. Calls for transparency in AI systems have grown louder amidst concerns about their impacts.\\n\\n4. **Gartner Hype Cycle**: According to the 2023 Gartner Hype Cycle for AI, there are significant innovations and techniques that promise transformational benefits. This cycle also emphasizes the importance of understanding the limitations and risks associated with AI systems.\\n\\nOverall, 2023 has been a pivotal year for AI, marked by technological breakthroughs alongside critical ethical discussions.\"}\n"
     ]
    }
   ],
   "execution_count": 88
  },
  {
   "metadata": {},
   "cell_type": "code",
   "outputs": [],
   "execution_count": null,
   "source": "",
   "id": "70105a858f61ee09"
  },
  {
   "metadata": {},
   "cell_type": "code",
   "outputs": [],
   "execution_count": null,
   "source": "",
   "id": "bc754137ea817df1"
  },
  {
   "metadata": {},
   "cell_type": "code",
   "outputs": [],
   "execution_count": null,
   "source": "",
   "id": "833934a27c0d9680"
  },
  {
   "metadata": {},
   "cell_type": "code",
   "outputs": [],
   "execution_count": null,
   "source": "",
   "id": "c5335f2d6e18fd4a"
  },
  {
   "metadata": {},
   "cell_type": "code",
   "outputs": [],
   "execution_count": null,
   "source": "",
   "id": "8e5fa66623e3ec2c"
  },
  {
   "metadata": {},
   "cell_type": "code",
   "outputs": [],
   "execution_count": null,
   "source": "",
   "id": "882c7c0fe82e8524"
  },
  {
   "metadata": {
    "ExecuteTime": {
     "end_time": "2024-08-01T21:27:08.988791Z",
     "start_time": "2024-08-01T21:27:08.983235Z"
    }
   },
   "cell_type": "code",
   "source": [
    "from langchain_openai import ChatOpenAI\n",
    "from langchain import hub\n",
    "from langchain.agents import create_openai_functions_agent, AgentExecutor\n",
    "from langchain.schema import HumanMessage, SystemMessage\n",
    "from langchain.tools import WikipediaQueryRun, DuckDuckGoSearchRun\n",
    "from langchain_community.utilities import WikipediaAPIWrapper\n",
    "from langchain import LLMMathChain\n",
    "from langchain.tools import Tool, StructuredTool\n",
    "from pydantic import BaseModel, Field\n",
    "from dotenv import load_dotenv\n",
    "import os"
   ],
   "id": "cf3b174a4c70297f",
   "outputs": [],
   "execution_count": 89
  },
  {
   "metadata": {
    "ExecuteTime": {
     "end_time": "2024-08-01T21:27:19.392834Z",
     "start_time": "2024-08-01T21:27:19.388399Z"
    }
   },
   "cell_type": "code",
   "source": [
    "class EnvironmentSetup:\n",
    "    @staticmethod\n",
    "    def load_env():\n",
    "        load_dotenv()\n",
    "        return os.getenv(\"OPENAI_API_KEY\")"
   ],
   "id": "da9822954e2d0d0f",
   "outputs": [],
   "execution_count": 90
  },
  {
   "metadata": {
    "ExecuteTime": {
     "end_time": "2024-08-01T21:27:47.605053Z",
     "start_time": "2024-08-01T21:27:47.599270Z"
    }
   },
   "cell_type": "code",
   "source": [
    "class LanguageModel:\n",
    "    def __init__(self, temperature=0.9, model_name=\"gpt-4\"):\n",
    "        self.llm = ChatOpenAI(temperature=temperature, model_name=model_name)"
   ],
   "id": "d1b9511b65931903",
   "outputs": [],
   "execution_count": 91
  },
  {
   "metadata": {
    "ExecuteTime": {
     "end_time": "2024-08-01T21:27:54.101765Z",
     "start_time": "2024-08-01T21:27:54.099464Z"
    }
   },
   "cell_type": "code",
   "source": [
    "class PromptSetup:\n",
    "    @staticmethod\n",
    "    def get_prompt():\n",
    "        return hub.pull(\"hwchase17/openai-functions-agent\")"
   ],
   "id": "f5a83f10281beca4",
   "outputs": [],
   "execution_count": 92
  },
  {
   "metadata": {
    "ExecuteTime": {
     "end_time": "2024-08-01T21:28:02.803459Z",
     "start_time": "2024-08-01T21:28:02.801142Z"
    }
   },
   "cell_type": "code",
   "source": [
    "class WikipediaTool:\n",
    "    def __init__(self, top_k_results=5, search_query=\"UEFA_Euro_2024\", doc_content_chars_max=1000):\n",
    "        api_wrapper = WikipediaAPIWrapper(\n",
    "            top_k_results=top_k_results,\n",
    "            search_query=search_query,\n",
    "            doc_content_chars_max=doc_content_chars_max,\n",
    "        )\n",
    "        self.tool = WikipediaQueryRun(api_wrapper=api_wrapper)"
   ],
   "id": "e89472197e4f5887",
   "outputs": [],
   "execution_count": 93
  },
  {
   "metadata": {
    "ExecuteTime": {
     "end_time": "2024-08-01T21:28:11.136252Z",
     "start_time": "2024-08-01T21:28:11.129424Z"
    }
   },
   "cell_type": "code",
   "source": [
    "class MathTool:\n",
    "    class MathInput(BaseModel):\n",
    "        expression: str = Field(description=\"The mathematical expression to calculate\")\n",
    "\n",
    "    def __init__(self, llm):\n",
    "        self.llm_math_chain = LLMMathChain.from_llm(llm=llm, verbose=True)\n",
    "\n",
    "    def math_calculator(self, expression: str) -> str:\n",
    "        return self.llm_math_chain.run(expression)\n",
    "\n",
    "    def get_tool(self):\n",
    "        return StructuredTool.from_function(\n",
    "            func=self.math_calculator,\n",
    "            name=\"math_calculator\",\n",
    "            description=\"A tool that calculates math expressions. The input should be a mathematical expression as a string.\",\n",
    "            args_schema=self.MathInput,\n",
    "        )"
   ],
   "id": "77d1083b2565b9fc",
   "outputs": [],
   "execution_count": 94
  },
  {
   "metadata": {
    "ExecuteTime": {
     "end_time": "2024-08-01T21:28:24.411582Z",
     "start_time": "2024-08-01T21:28:24.408391Z"
    }
   },
   "cell_type": "code",
   "source": [
    "class WebSearchTool:\n",
    "    class WebSearchInput(BaseModel):\n",
    "        query: str = Field(description=\"The search query to look up\")\n",
    "\n",
    "    @staticmethod\n",
    "    def web_search(query: str) -> str:\n",
    "        return DuckDuckGoSearchRun().run(query)\n",
    "\n",
    "    @classmethod\n",
    "    def get_tool(cls):\n",
    "        return StructuredTool.from_function(\n",
    "            func=cls.web_search,\n",
    "            name=\"web_search\",\n",
    "            description=\"A tool to search the web using DuckDuckGo\",\n",
    "            args_schema=cls.WebSearchInput,\n",
    "        )"
   ],
   "id": "de9e073c5ba6ce0d",
   "outputs": [],
   "execution_count": 95
  },
  {
   "metadata": {
    "ExecuteTime": {
     "end_time": "2024-08-01T21:28:30.721460Z",
     "start_time": "2024-08-01T21:28:30.717211Z"
    }
   },
   "cell_type": "code",
   "source": [
    "class AgentSetup:\n",
    "    def __init__(self, llm, tools, prompt):\n",
    "        self.agent = create_openai_functions_agent(llm, tools, prompt)\n",
    "        self.executor = AgentExecutor(agent=self.agent, tools=tools, verbose=True)\n",
    "\n",
    "    def run_agent(self, query):\n",
    "        result = self.executor.invoke({\"input\": query})\n",
    "        print(result)"
   ],
   "id": "373ed03baee97ecb",
   "outputs": [],
   "execution_count": 96
  },
  {
   "metadata": {
    "ExecuteTime": {
     "end_time": "2024-08-01T21:28:38.217914Z",
     "start_time": "2024-08-01T21:28:38.215153Z"
    }
   },
   "cell_type": "code",
   "source": [
    "class MainApplication:\n",
    "    def __init__(self):\n",
    "        openai_api_key = EnvironmentSetup.load_env()\n",
    "        language_model = LanguageModel()\n",
    "        prompt = PromptSetup.get_prompt()\n",
    "\n",
    "        wiki_tool = WikipediaTool().tool\n",
    "        math_tool = MathTool(language_model.llm).get_tool()\n",
    "        search_tool = WebSearchTool.get_tool()\n",
    "\n",
    "        tools = [wiki_tool, math_tool, search_tool]\n",
    "\n",
    "        self.agent_setup = AgentSetup(language_model.llm, tools, prompt)\n",
    "\n",
    "    def run_examples(self):\n",
    "        print(\"Ejemplo 1: Predicción de la Eurocopa 2024\")\n",
    "        self.agent_setup.run_agent(\"Who will win the Euro football cup in 2024?\")\n",
    "\n",
    "        print(\"\\nEjemplo 2: Cálculo matemático\")\n",
    "        self.agent_setup.run_agent(\"What is the square root of 4?\")\n",
    "\n",
    "        print(\"\\nEjemplo 3: Búsqueda web\")\n",
    "        self.agent_setup.run_agent(\"What are the latest developments in AI?\")"
   ],
   "id": "b4b35e38484b38aa",
   "outputs": [],
   "execution_count": 97
  },
  {
   "metadata": {
    "ExecuteTime": {
     "end_time": "2024-08-01T21:28:50.301154Z",
     "start_time": "2024-08-01T21:28:49.863648Z"
    }
   },
   "cell_type": "code",
   "source": "app = MainApplication()",
   "id": "53aa1a86ee27db76",
   "outputs": [],
   "execution_count": 98
  },
  {
   "metadata": {
    "ExecuteTime": {
     "end_time": "2024-08-01T21:29:16.500142Z",
     "start_time": "2024-08-01T21:28:52.451397Z"
    }
   },
   "cell_type": "code",
   "source": "app.run_examples()",
   "id": "9f8857b2498cd136",
   "outputs": [
    {
     "name": "stdout",
     "output_type": "stream",
     "text": [
      "Ejemplo 1: Predicción de la Eurocopa 2024\n",
      "\n",
      "\n",
      "\u001B[1m> Entering new AgentExecutor chain...\u001B[0m\n",
      "\u001B[32;1m\u001B[1;3mAs an AI developed by OpenAI, I don't predict the future or speculate on future events. The winner of the Euro 2024 will be determined by the matches played in that tournament. Everyone's guess is as good as any until the matches are played.\u001B[0m\n",
      "\n",
      "\u001B[1m> Finished chain.\u001B[0m\n",
      "{'input': 'Who will win the Euro football cup in 2024?', 'output': \"As an AI developed by OpenAI, I don't predict the future or speculate on future events. The winner of the Euro 2024 will be determined by the matches played in that tournament. Everyone's guess is as good as any until the matches are played.\"}\n",
      "\n",
      "Ejemplo 2: Cálculo matemático\n",
      "\n",
      "\n",
      "\u001B[1m> Entering new AgentExecutor chain...\u001B[0m\n",
      "\u001B[32;1m\u001B[1;3m\n",
      "Invoking: `math_calculator` with `{'expression': 'sqrt(4)'}`\n",
      "\n",
      "\n",
      "\u001B[0m\n",
      "\n",
      "\u001B[1m> Entering new LLMMathChain chain...\u001B[0m\n",
      "sqrt(4)\u001B[32;1m\u001B[1;3m```text\n",
      "sqrt(4)\n",
      "```\n",
      "...numexpr.evaluate(\"sqrt(4)\")...\n",
      "\u001B[0m\n",
      "Answer: \u001B[33;1m\u001B[1;3m2.0\u001B[0m\n",
      "\u001B[1m> Finished chain.\u001B[0m\n",
      "\u001B[33;1m\u001B[1;3mAnswer: 2.0\u001B[0m\u001B[32;1m\u001B[1;3mThe square root of 4 is 2.\u001B[0m\n",
      "\n",
      "\u001B[1m> Finished chain.\u001B[0m\n",
      "{'input': 'What is the square root of 4?', 'output': 'The square root of 4 is 2.'}\n",
      "\n",
      "Ejemplo 3: Búsqueda web\n",
      "\n",
      "\n",
      "\u001B[1m> Entering new AgentExecutor chain...\u001B[0m\n",
      "\u001B[32;1m\u001B[1;3m\n",
      "Invoking: `web_search` with `{'query': 'latest developments in AI'}`\n",
      "\n",
      "\n",
      "\u001B[0m\u001B[38;5;200m\u001B[1;3mThe web page predicts four trends in artificial intelligence for the year 2024, such as customized chatbots, generative video, AI-generated election disinformation, and AI-powered law enforcement. It also reviews the performance of its predictions for 2023 and the challenges and opportunities of AI in various domains. Learn how generative AI is evolving and integrating into business and everyday life in 2024. Discover the latest developments in multimodal AI, open source models, GPU shortages, regulation and more. The next big thing is AI tools that can do more complex tasks. Here's how they will work. AI tools can be useful for everything from booking flights to translating menus. AlphaProof and ... AI-Powered Simulation Training Improves Human Performance in Robotic Exoskeletons. June 12, 2024 — Researchers have demonstrated a new method that leverages artificial intelligence (AI) and ... Learn about the latest innovations and techniques in artificial intelligence from the 2023 Gartner Hype Cycle. Explore generative AI, decision intelligence, AI engineering, causal AI, foundation models and more.\u001B[0m\u001B[32;1m\u001B[1;3mHere are some of the latest developments and trends in AI for 2024:\n",
      "\n",
      "1. Customized Chatbots: Chatbots are becoming more personalized, offering custom interactions based on user behavior.\n",
      "\n",
      "2. Generative Video: These are videos created by AI algorithms. They are being used in various fields such as entertainment, advertising, and more.\n",
      "\n",
      "3. AI-Generated Election Disinformation: There is a rising trend of misinformation being spread during election periods through AI-generated content.\n",
      "\n",
      "4. AI-Powered Law Enforcement: AI is being used to enhance efficiency and effectiveness in law enforcement.\n",
      "\n",
      "5. Multimodal AI: This involves combining inputs from different sensor types, delivering more complex and flexible AI systems.\n",
      "\n",
      "6. Open Source Models: More AI models are being made open-source, allowing for greater transparency and collaboration in the AI community.\n",
      "\n",
      "7. AI Tools for Complex Tasks: AI tools are being developed to handle more complex tasks, making them a bigger part of everyday life.\n",
      "\n",
      "8. AI-Powered Simulation Training: This is being used to improve human performance in areas like robotic exoskeletons.\n",
      "\n",
      "These are just a few examples. The field of AI continues to evolve rapidly, with new innovations and techniques frequently emerging.\u001B[0m\n",
      "\n",
      "\u001B[1m> Finished chain.\u001B[0m\n",
      "{'input': 'What are the latest developments in AI?', 'output': 'Here are some of the latest developments and trends in AI for 2024:\\n\\n1. Customized Chatbots: Chatbots are becoming more personalized, offering custom interactions based on user behavior.\\n\\n2. Generative Video: These are videos created by AI algorithms. They are being used in various fields such as entertainment, advertising, and more.\\n\\n3. AI-Generated Election Disinformation: There is a rising trend of misinformation being spread during election periods through AI-generated content.\\n\\n4. AI-Powered Law Enforcement: AI is being used to enhance efficiency and effectiveness in law enforcement.\\n\\n5. Multimodal AI: This involves combining inputs from different sensor types, delivering more complex and flexible AI systems.\\n\\n6. Open Source Models: More AI models are being made open-source, allowing for greater transparency and collaboration in the AI community.\\n\\n7. AI Tools for Complex Tasks: AI tools are being developed to handle more complex tasks, making them a bigger part of everyday life.\\n\\n8. AI-Powered Simulation Training: This is being used to improve human performance in areas like robotic exoskeletons.\\n\\nThese are just a few examples. The field of AI continues to evolve rapidly, with new innovations and techniques frequently emerging.'}\n"
     ]
    }
   ],
   "execution_count": 99
  },
  {
   "metadata": {},
   "cell_type": "code",
   "outputs": [],
   "execution_count": null,
   "source": "",
   "id": "b1110e1945469930"
  }
 ],
 "metadata": {
  "kernelspec": {
   "display_name": "Python 3",
   "language": "python",
   "name": "python3"
  },
  "language_info": {
   "codemirror_mode": {
    "name": "ipython",
    "version": 2
   },
   "file_extension": ".py",
   "mimetype": "text/x-python",
   "name": "python",
   "nbconvert_exporter": "python",
   "pygments_lexer": "ipython2",
   "version": "2.7.6"
  }
 },
 "nbformat": 4,
 "nbformat_minor": 5
}
